{
 "cells": [
  {
   "cell_type": "markdown",
   "metadata": {},
   "source": [
    "# Iteración\n",
    "\n",
    "## La sentencia *while*\n",
    "\n",
    "Una forma de iteración en Python es la sentencia *while*. He aquí un programa\n",
    "sencillo que cuenta hacia atrás desde cinco y luego dice “¡Despegue!”."
   ]
  },
  {
   "cell_type": "code",
   "execution_count": 3,
   "metadata": {},
   "outputs": [
    {
     "name": "stdout",
     "output_type": "stream",
     "text": [
      "5\n",
      "4\n",
      "3\n",
      "2\n",
      "1\n",
      "Despegue\n"
     ]
    }
   ],
   "source": [
    "n=5\n",
    "while n>0:\n",
    "    print(n)\n",
    "    n=n-1\n",
    "print('Despegue')"
   ]
  },
  {
   "cell_type": "markdown",
   "metadata": {},
   "source": [
    "Casi se puede leer la sentencia *while* como si estuviera escrita en inglés. Significa,\n",
    "“Mientras n sea mayor que 0, muestra el valor de n y luego reduce el valor de n\n",
    "en 1 unidad. Cuando llegues a 0, sal de la sentencia *while* y muestra la palabra\n",
    "¡Despegue!”"
   ]
  },
  {
   "cell_type": "markdown",
   "metadata": {},
   "source": [
    "## Bucles infinitos y *Break*\n",
    "\n",
    "El bucle siguiente es, obviamente, un bucle infinito, porque la expresión lógica de\n",
    "la sentencia *while* es simplemente la constante lógica True (verdadero);"
   ]
  },
  {
   "cell_type": "code",
   "execution_count": null,
   "metadata": {},
   "outputs": [],
   "source": [
    "#n=10\n",
    "#while true:\n",
    "    #print(n)\n",
    "    #n=n-1\n",
    "#print('terminado')     # No ejecutar este programita\n",
    "    \n",
    "    "
   ]
  },
  {
   "cell_type": "markdown",
   "metadata": {},
   "source": [
    "A pesar de que en este caso se trata de un bucle infinito inútil, se puede usar ese\n",
    "diseño para construir bucles útiles, siempre que se tenga la precaución de añadir\n",
    "código en el cuerpo del bucle para salir explícitamente, usando *break* cuando se\n",
    "haya alcanzado la condición de salida.\n",
    "\n",
    "Por ejemplo, supón que quieres recoger entradas de texto del usuario hasta que\n",
    "éste escriba fin. Podrías escribir:"
   ]
  },
  {
   "cell_type": "code",
   "execution_count": 2,
   "metadata": {},
   "outputs": [
    {
     "name": "stdout",
     "output_type": "stream",
     "text": [
      ">\n",
      "hola\n",
      "hola\n",
      ">\n",
      "adiós\n",
      "adiós\n",
      ">\n",
      "fin\n",
      "terminado!\n"
     ]
    }
   ],
   "source": [
    "while True:\n",
    "    linea=input('>\\n')\n",
    "    if linea== 'fin':\n",
    "        break\n",
    "    print(linea)\n",
    "print('terminado!')"
   ]
  },
  {
   "cell_type": "markdown",
   "metadata": {},
   "source": [
    "## Finalizar iteraciones con *continue*\n",
    "\n",
    "Algunas veces, estando dentro de un bucle se necesita **terminar con la iteración\n",
    "actual y saltar a la siguiente de forma inmediata**. En ese caso se puede utilizar la\n",
    "sentencia *continue* para pasar a la siguiente iteración sin terminar la ejecución\n",
    "del cuerpo del bucle para la actual.\n",
    "\n",
    "A continuación se muestra un ejemplo de un bucle que repite lo que recibe como\n",
    "entrada hasta que el usuario escribe “fin”, pero trata las líneas que empiezan\n",
    "por el carácter almohadilla como líneas que no deben mostrarse en pantalla (algo\n",
    "parecido a lo que hace Python con los comentarios)."
   ]
  },
  {
   "cell_type": "code",
   "execution_count": 1,
   "metadata": {},
   "outputs": [
    {
     "name": "stdout",
     "output_type": "stream",
     "text": [
      ">hola\n",
      "hola\n",
      ">como estas\n",
      "como estas\n",
      ">gracias\n",
      "gracias\n",
      "># esto no lo pongas\n",
      ">esto si!\n",
      "esto si!\n",
      ">fin\n",
      "terminado\n"
     ]
    }
   ],
   "source": [
    "while True:\n",
    "    linea=input('>')\n",
    "    if linea[0]=='#':\n",
    "        continue\n",
    "    if linea == 'fin':\n",
    "        break\n",
    "    print(linea)\n",
    "print('terminado')"
   ]
  },
  {
   "cell_type": "markdown",
   "metadata": {},
   "source": [
    "## Bucles definidos usando *for*\n",
    "\n"
   ]
  },
  {
   "cell_type": "markdown",
   "metadata": {},
   "source": [
    "A veces se desea repetir un bucle a través de un conjunto de cosas, como una\n",
    "lista de palabras, las líneas de un archivo, o una lista de números. Cuando se tiene\n",
    "una lista de cosas para recorrer, se puede construir un bucle definido usando una sentenia *for*.\n",
    "\n",
    "A la sentencia *while* se la llama un bucle indefinido, porque simplemente\n",
    "se repite hasta que cierta condición se hace Falsa, mientras que el bucle\n",
    "*for* se repite a través de un conjunto conocido de elementos, de modo que ejecuta\n",
    "tantas iteraciones como elementos hay en el conjunto.\n",
    "\n",
    "Ejemplo de la sintaxis del bucle\n"
   ]
  },
  {
   "cell_type": "code",
   "execution_count": 3,
   "metadata": {},
   "outputs": [
    {
     "name": "stdout",
     "output_type": "stream",
     "text": [
      "Feliz año nuevo: joseph\n",
      "Feliz año nuevo: felipe\n",
      "Feliz año nuevo: juan\n",
      "terminado\n"
     ]
    }
   ],
   "source": [
    "amigos=['joseph','felipe','juan']\n",
    "for amigo in amigos:\n",
    "    print('Feliz año nuevo:', amigo)\n",
    "print('terminado')"
   ]
  },
  {
   "cell_type": "markdown",
   "metadata": {},
   "source": [
    "En concreto, amigo es la variable de iteración para el bucle *for*. La variable amigo\n",
    "cambia para cada iteración del bucle y controla cuándo se termina el bucle for.\n",
    "La variable de iteracion se desplaza sucesivamente a través de las tres cadenas\n",
    "almacenadas en la variable amigos."
   ]
  },
  {
   "cell_type": "markdown",
   "metadata": {},
   "source": [
    "## Bucles de recuento y suma\n",
    "\n",
    "por ejemplo, para contar el número de elementos en una lista podemos escribir el siguiente bucle for"
   ]
  },
  {
   "cell_type": "code",
   "execution_count": 4,
   "metadata": {},
   "outputs": [
    {
     "name": "stdout",
     "output_type": "stream",
     "text": [
      "num. de elementos: 6\n"
     ]
    }
   ],
   "source": [
    "contador=0\n",
    "for valor in [3,41,12,9,74,15]:\n",
    "    contador=contador+1\n",
    "print('num. de elementos:', contador)"
   ]
  },
  {
   "cell_type": "markdown",
   "metadata": {},
   "source": [
    "dado que no usamos valor dentro del\n",
    "bucle, lo único que hace es controlar el bucle y hacer que el cuerpo del mismo sea\n",
    "ejecutado una vez para cada uno de los valores de la lista.\n",
    "\n",
    "Otro bucle similar, que calcula el total de un conjunto de números, se muestra a\n",
    "continuación:"
   ]
  },
  {
   "cell_type": "code",
   "execution_count": 6,
   "metadata": {},
   "outputs": [
    {
     "name": "stdout",
     "output_type": "stream",
     "text": [
      "total 154\n"
     ]
    }
   ],
   "source": [
    "total=0\n",
    "for valor in [3,41,12,9,74,15]:\n",
    "    total=total+valor\n",
    "print('total',total)"
   ]
  },
  {
   "cell_type": "markdown",
   "metadata": {},
   "source": [
    "Durante el bucle, total es la suma parcial, y al final del\n",
    "bucle, total es la suma total definitiva de todos los valores de la lista.\n",
    "\n",
    "Ni el bucle que cuenta los elementos ni el que los suma resultan particularmente\n",
    "útiles en la práctica, dado que existen las funciones internas *len()* y *sum()* que\n",
    "cuentan el número de elementos de una lista y el total de elementos en la misma\n",
    "respectivamente.\n",
    "        \n",
    "       "
   ]
  },
  {
   "cell_type": "markdown",
   "metadata": {},
   "source": [
    "**Ejercicio:** Escribe un programa que lea repetidamente números hasta que el\n",
    "usuario introduzca “fin”. Una vez se haya introducido “fin”, muestra por pantalla\n",
    "el total, la cantidad de núumeros y la media de esos números. Si el usuario introduce\n",
    "cualquier otra cosa que no sea un número, detecta su fallo usando try y except,\n",
    "muestra un mensaje de error y pasa al n´umero siguiente.\n",
    "\n"
   ]
  },
  {
   "cell_type": "code",
   "execution_count": 1,
   "metadata": {},
   "outputs": [
    {
     "name": "stdout",
     "output_type": "stream",
     "text": [
      "introduzca número:4\n",
      "introduzca número:5\n",
      "introduzca número:dato erroneo\n",
      "entrada enválida\n",
      "introduzca número:7\n",
      "introduzca número:fin\n",
      "16.0 3 5.333333333333333\n"
     ]
    }
   ],
   "source": [
    "\n",
    "suma=0\n",
    "contador=0\n",
    "\n",
    "while True:\n",
    "    try:\n",
    "        ent=input('introduzca número:')\n",
    "        if ent == 'fin':\n",
    "            break\n",
    "        numero=float(ent)\n",
    "        suma=suma+numero\n",
    "        contador=contador +1\n",
    "    except:\n",
    "        print('entrada enválida')\n",
    "        \n",
    "print(suma, contador,suma/contador)\n",
    "        "
   ]
  }
 ],
 "metadata": {
  "kernelspec": {
   "display_name": "Python 3",
   "language": "python",
   "name": "python3"
  },
  "language_info": {
   "codemirror_mode": {
    "name": "ipython",
    "version": 3
   },
   "file_extension": ".py",
   "mimetype": "text/x-python",
   "name": "python",
   "nbconvert_exporter": "python",
   "pygments_lexer": "ipython3",
   "version": "3.7.6"
  },
  "latex_envs": {
   "LaTeX_envs_menu_present": true,
   "autoclose": true,
   "autocomplete": true,
   "bibliofile": "biblio.bib",
   "cite_by": "apalike",
   "current_citInitial": 1,
   "eqLabelWithNumbers": true,
   "eqNumInitial": 1,
   "hotkeys": {
    "equation": "Ctrl-E",
    "itemize": "Ctrl-I"
   },
   "labels_anchors": false,
   "latex_user_defs": false,
   "report_style_numbering": true,
   "user_envs_cfg": false
  }
 },
 "nbformat": 4,
 "nbformat_minor": 4
}
