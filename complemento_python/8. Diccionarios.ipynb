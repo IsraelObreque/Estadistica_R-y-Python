{
 "cells": [
  {
   "cell_type": "markdown",
   "metadata": {},
   "source": [
    "# Diccionarios\n",
    "\n",
    "Un diccionario es similar a una lista, pero más general. En una lista, las posiciones\n",
    "de los índices deben ser enteros; en un diccionario, los índices pueden ser de (casi)\n",
    "cualquier tipo.\n",
    "\n",
    "Puedes pensar en un diccionario como una asignación entre un conjunto de índices\n",
    "(a los cuales se les llama claves) y un conjunto de valores. Cada clave apunta a\n",
    "un valor. La asociación de una clave y un valor recibe el nombre de pareja clave-valor,\n",
    "o a veces elemento.\n",
    "\n",
    "Por ejemplo, hemos construido un diccionario que asocia palabras inglesas con\n",
    "sus equivalentes en español, de modo que tanto claves como valores son cadenas."
   ]
  },
  {
   "cell_type": "code",
   "execution_count": 1,
   "metadata": {},
   "outputs": [
    {
     "name": "stdout",
     "output_type": "stream",
     "text": [
      "{}\n"
     ]
    }
   ],
   "source": [
    "eng2sp=dict()\n",
    "print(eng2sp)"
   ]
  },
  {
   "cell_type": "markdown",
   "metadata": {},
   "source": [
    "Las llaves {}, representan un diccionario vacío. Para añadir elementos al diccionario,\n",
    "se pueden usar corchetes:"
   ]
  },
  {
   "cell_type": "code",
   "execution_count": 2,
   "metadata": {},
   "outputs": [],
   "source": [
    "eng2sp['one']='uno'"
   ]
  },
  {
   "cell_type": "markdown",
   "metadata": {},
   "source": [
    "Esta línea crea un elemento con la clave ’one’ que apunta al valor 'uno'. Si imprimimos\n",
    "el diccionario de nuevo, veremos una pareja clave-valor con dos-puntos\n",
    "entre la clave y el valor:"
   ]
  },
  {
   "cell_type": "code",
   "execution_count": 3,
   "metadata": {},
   "outputs": [
    {
     "name": "stdout",
     "output_type": "stream",
     "text": [
      "{'one': 'uno'}\n"
     ]
    }
   ],
   "source": [
    "print(eng2sp)"
   ]
  },
  {
   "cell_type": "markdown",
   "metadata": {},
   "source": [
    "Este formato de salida es también un formato de entrada. Por ejemplo, puedes\n",
    "crear un nuevo diccionario con tres elementos:"
   ]
  },
  {
   "cell_type": "code",
   "execution_count": 13,
   "metadata": {},
   "outputs": [],
   "source": [
    "eng2sp={'one':'uno','two':'dos','three':'tres',\"four\":\"cuatro\"}"
   ]
  },
  {
   "cell_type": "code",
   "execution_count": 14,
   "metadata": {},
   "outputs": [
    {
     "data": {
      "text/plain": [
       "dict_keys(['one', 'two', 'three', 'four'])"
      ]
     },
     "execution_count": 14,
     "metadata": {},
     "output_type": "execute_result"
    }
   ],
   "source": [
    "#Llaves\n",
    "eng2sp.keys()"
   ]
  },
  {
   "cell_type": "code",
   "execution_count": 15,
   "metadata": {},
   "outputs": [
    {
     "data": {
      "text/plain": [
       "dict_values(['uno', 'dos', 'tres', 'cuatro'])"
      ]
     },
     "execution_count": 15,
     "metadata": {},
     "output_type": "execute_result"
    }
   ],
   "source": [
    "#Valores\n",
    "eng2sp.values()"
   ]
  },
  {
   "cell_type": "markdown",
   "metadata": {},
   "source": [
    "Para eliminar un elemento del diccionario"
   ]
  },
  {
   "cell_type": "code",
   "execution_count": 16,
   "metadata": {},
   "outputs": [],
   "source": [
    "del eng2sp[\"four\"]"
   ]
  },
  {
   "cell_type": "code",
   "execution_count": 17,
   "metadata": {},
   "outputs": [
    {
     "data": {
      "text/plain": [
       "{'one': 'uno', 'two': 'dos', 'three': 'tres'}"
      ]
     },
     "execution_count": 17,
     "metadata": {},
     "output_type": "execute_result"
    }
   ],
   "source": [
    "eng2sp"
   ]
  },
  {
   "cell_type": "markdown",
   "metadata": {},
   "source": [
    "En general, el orden de los elementos en un diccionario es impredecible. Pero eso no es un problema, porque los elementos de un diccionario nunca son indexados por índices enteros. En lugar de eso, se usan las claves para buscar los valores correspondientes:"
   ]
  },
  {
   "cell_type": "code",
   "execution_count": 18,
   "metadata": {},
   "outputs": [
    {
     "data": {
      "text/plain": [
       "'dos'"
      ]
     },
     "execution_count": 18,
     "metadata": {},
     "output_type": "execute_result"
    }
   ],
   "source": [
    "eng2sp['two']"
   ]
  },
  {
   "cell_type": "markdown",
   "metadata": {},
   "source": [
    "La clave ’two’ siempre apunta al valor 'dos', de modo que el orden de los\n",
    "elementos no importa.\n",
    "\n",
    "Si la clave especificada no está en el diccionario, se obtiene una excepción:"
   ]
  },
  {
   "cell_type": "code",
   "execution_count": 18,
   "metadata": {},
   "outputs": [
    {
     "ename": "KeyError",
     "evalue": "'four'",
     "output_type": "error",
     "traceback": [
      "\u001b[1;31m---------------------------------------------------------------------------\u001b[0m",
      "\u001b[1;31mKeyError\u001b[0m                                  Traceback (most recent call last)",
      "\u001b[1;32m<ipython-input-18-0c5b4554d872>\u001b[0m in \u001b[0;36m<module>\u001b[1;34m\u001b[0m\n\u001b[1;32m----> 1\u001b[1;33m \u001b[0mprint\u001b[0m\u001b[1;33m(\u001b[0m\u001b[0meng2sp\u001b[0m\u001b[1;33m[\u001b[0m\u001b[1;34m'four'\u001b[0m\u001b[1;33m]\u001b[0m\u001b[1;33m)\u001b[0m\u001b[1;33m\u001b[0m\u001b[1;33m\u001b[0m\u001b[0m\n\u001b[0m",
      "\u001b[1;31mKeyError\u001b[0m: 'four'"
     ]
    }
   ],
   "source": [
    "print(eng2sp['four'])"
   ]
  },
  {
   "cell_type": "markdown",
   "metadata": {},
   "source": [
    "La función len funciona en los diccionarios; devuelve el número de parejas clavevalor:"
   ]
  },
  {
   "cell_type": "code",
   "execution_count": 19,
   "metadata": {},
   "outputs": [
    {
     "data": {
      "text/plain": [
       "3"
      ]
     },
     "execution_count": 19,
     "metadata": {},
     "output_type": "execute_result"
    }
   ],
   "source": [
    "len(eng2sp)"
   ]
  },
  {
   "cell_type": "markdown",
   "metadata": {},
   "source": [
    "El operador in también funciona en los diccionarios; te dice si algo aparece como\n",
    "clave en el diccionario (que aparezca como valor no es suficiente)."
   ]
  },
  {
   "cell_type": "code",
   "execution_count": 20,
   "metadata": {},
   "outputs": [
    {
     "data": {
      "text/plain": [
       "True"
      ]
     },
     "execution_count": 20,
     "metadata": {},
     "output_type": "execute_result"
    }
   ],
   "source": [
    "'one' in eng2sp"
   ]
  },
  {
   "cell_type": "code",
   "execution_count": 21,
   "metadata": {},
   "outputs": [
    {
     "data": {
      "text/plain": [
       "False"
      ]
     },
     "execution_count": 21,
     "metadata": {},
     "output_type": "execute_result"
    }
   ],
   "source": [
    "'uno' in eng2sp"
   ]
  },
  {
   "cell_type": "markdown",
   "metadata": {},
   "source": [
    "Para ver si algo aparece como valor en un diccionario, se puede usar el método\n",
    "values, que devuelve los valores como una lista, y después usar el operador in\n",
    "sobre esa lista:"
   ]
  },
  {
   "cell_type": "code",
   "execution_count": 22,
   "metadata": {},
   "outputs": [
    {
     "data": {
      "text/plain": [
       "True"
      ]
     },
     "execution_count": 22,
     "metadata": {},
     "output_type": "execute_result"
    }
   ],
   "source": [
    "valores=eng2sp.values()\n",
    "'uno' in valores"
   ]
  },
  {
   "cell_type": "code",
   "execution_count": 23,
   "metadata": {},
   "outputs": [
    {
     "name": "stdout",
     "output_type": "stream",
     "text": [
      "dict_values(['uno', 'dos', 'tres'])\n"
     ]
    }
   ],
   "source": [
    "print(valores)"
   ]
  },
  {
   "cell_type": "code",
   "execution_count": 31,
   "metadata": {},
   "outputs": [],
   "source": [
    "data=open('words.txt')"
   ]
  },
  {
   "cell_type": "code",
   "execution_count": 33,
   "metadata": {},
   "outputs": [
    {
     "data": {
      "text/plain": [
       "{'hola\\n': {},\n",
       " 'seÃ±or\\n': {},\n",
       " 'israel\\n': {},\n",
       " 'maria\\n': {},\n",
       " 'pucho\\n': {},\n",
       " 'pulo\\n': {},\n",
       " 'entrenador\\n': {},\n",
       " 'casa\\n': {},\n",
       " 'departamento\\n': {},\n",
       " 'hospital\\n': {}}"
      ]
     },
     "execution_count": 33,
     "metadata": {},
     "output_type": "execute_result"
    }
   ],
   "source": [
    "dic_pal={}\n",
    "for palabra in data:\n",
    "    dic_pal[palabra]={}\n",
    "dic_pal"
   ]
  },
  {
   "cell_type": "markdown",
   "metadata": {},
   "source": [
    "# Diccionario como un conjunto de contadores\n",
    "\n",
    "Supongamos que te han dado una cadena y quieres contar cuántas veces aparece\n",
    "cada letra. Hay varias formas de hacerlo\n",
    "\n",
    " Podrías crear un diccionario con los caracteres como claves y contadores\n",
    "como sus valores correspondientes. La primera vez que veas un carácter,\n",
    "añadirías un elemento al diccionario. Después, aumentarías el valor del elemento\n",
    "ya existente.\n",
    "\n",
    "Así es como podría programarse el código:"
   ]
  },
  {
   "cell_type": "code",
   "execution_count": 34,
   "metadata": {},
   "outputs": [
    {
     "name": "stdout",
     "output_type": "stream",
     "text": [
      "{'b': 1, 'r': 2, 'o': 3, 'n': 1, 't': 1, 's': 1, 'a': 1, 'u': 1, 'i': 1}\n"
     ]
    }
   ],
   "source": [
    "palabra='brontosaurio'\n",
    "d=dict()\n",
    "for c in palabra:\n",
    "    if c not in d:\n",
    "        d[c]=1\n",
    "    else:\n",
    "        d[c] += 1\n",
    "print(d)"
   ]
  },
  {
   "cell_type": "markdown",
   "metadata": {},
   "source": [
    "En realidad estamos realizando un histograma, que es un término estadístico para\n",
    "un conjunto de contadores (o frecuencias)."
   ]
  },
  {
   "cell_type": "markdown",
   "metadata": {},
   "source": [
    "El bucle for recorre la cadena. Cada vez que entra en el bucle, si el carácter c no\n",
    "está en el diccionario, creamos un nuevo elemento con la clave c y el valor inicial\n",
    "1 (ya que hemos encontrado esa letra una vez). Si c ya está en el diccionario,\n",
    "incrementamos d[c].\n",
    "\n",
    "Los diccionarios tienen un método llamado get que toma una clave y un valor por\n",
    "defecto. Si la clave aparece en el diccionario, get devuelve el valor correspondiente;\n",
    "si no, devuelve el valor por defecto. Por ejemplo:"
   ]
  },
  {
   "cell_type": "code",
   "execution_count": 36,
   "metadata": {},
   "outputs": [
    {
     "name": "stdout",
     "output_type": "stream",
     "text": [
      "100\n"
     ]
    }
   ],
   "source": [
    "contadores={'chuck':1,'annie':42,'jan':100}\n",
    "print(contadores.get('jan','no esta'))"
   ]
  },
  {
   "cell_type": "code",
   "execution_count": 39,
   "metadata": {},
   "outputs": [
    {
     "name": "stdout",
     "output_type": "stream",
     "text": [
      "0\n"
     ]
    }
   ],
   "source": [
    "print(contadores.get('felipe',0)) # el valor por defecto es el segundo argumento de get, podria ser \"0\" o \"no esta\""
   ]
  },
  {
   "cell_type": "markdown",
   "metadata": {},
   "source": [
    "Podemos usar get para escribir nuestro bucle de histograma de forma más concisa.\n",
    "Como el método get gestiona automáticamente el caso de que la clave no esté en\n",
    "el diccionario, podemos reducir cuatro líneas a una sola y eliminar la sentencia if"
   ]
  },
  {
   "cell_type": "code",
   "execution_count": 40,
   "metadata": {},
   "outputs": [
    {
     "name": "stdout",
     "output_type": "stream",
     "text": [
      "{'b': 1, 'r': 2, 'o': 3, 'n': 1, 't': 1, 's': 1, 'a': 1, 'u': 1, 'i': 1}\n"
     ]
    }
   ],
   "source": [
    "palabra='brontosaurio'\n",
    "d=dict()\n",
    "for c in palabra:\n",
    "    d[c]=d.get(c,0)+1  #d.get(c,0) en este caso entrega el valor numerico asociado a cada llave y si no esta le entrega un cero por defecto\n",
    "print(d)"
   ]
  },
  {
   "cell_type": "markdown",
   "metadata": {},
   "source": [
    "El uso del método get para simplificar este bucle de recuento al final resulta ser\n",
    "un “estilo” que se usa en Python con mucha frecuencia, y lo utilizaremos muchas\n",
    "veces en el resto del libro. Así que deberías pararte un momento y comparar el bucle\n",
    "usando la sentencia if y el operador in con el mismo bucle usando el método\n",
    "get. Hacen exactamente lo mismo, pero uno es más conciso."
   ]
  },
  {
   "cell_type": "markdown",
   "metadata": {},
   "source": [
    "## Diccionarios y Archivos\n",
    "\n",
    "Uno de los usos más comunes de un diccionario es contar la aparición de palabras\n",
    "en un archivo con texto escrito. Empecemos con un archivo muy sencillo de\n",
    "palabras tomados del texto de Romeo and Juliet.\n",
    "\n",
    "Para el primer conjunto de ejemplos, usaremos una versión acortada y simplificada\n",
    "del texto, sin signos de puntuación. Más tarde trabajaremos con el texto completo\n",
    "de la escena, con puntuación incluida.\n",
    "\n",
    "Vamos a escribir un programa en Python para ir leyendo las líneas del archivo, dividir\n",
    "cada línea en una lista de palabras, ir recorriendo esa lista y contar el número\n",
    "de veces que aparece cada palabra, usando un diccionario.\n",
    "\n",
    "Verás que tenemos dos bucles for. El bucle exterior va leyendo las líneas del\n",
    "archivo, mientras que el interior va iterando a través de cada una de las palabras\n",
    "de una línea concreta. Esto es un ejemplo de un diseño llamado bucles anidados,\n",
    "ya que uno de los bucles es el exterior, y el otro es el interior.\n",
    "\n",
    "Debido a que el bucle interior ejecuta todas sus iteraciones cada vez que el bucle\n",
    "exterior realiza una sola, consideramos que el bucle interior va iterando “más\n",
    "rápido” y que el exterior lo hace más lentamente.\n",
    "\n",
    "La combinación de los dos bucles anidados garantiza que se cuentan todas las\n",
    "palabras en cada línea del archivo de entrada.\n"
   ]
  },
  {
   "cell_type": "code",
   "execution_count": 3,
   "metadata": {},
   "outputs": [
    {
     "name": "stdout",
     "output_type": "stream",
     "text": [
      "Introduzca el nombre del ficheroromeo.txt\n",
      "{'But': 1, 'soft': 1, 'what': 1, 'light': 1, 'through': 1, 'yonder': 1, 'window': 1, 'breaks': 1, 'It': 1, 'is': 3, 'the': 3, 'east': 1, 'and': 3, 'Juliet': 1, 'sun': 2, 'Arise': 1, 'fair': 1, 'kill': 1, 'envious': 1, 'moon': 1, 'Who': 1, 'already': 1, 'sick': 1, 'pale': 1, 'with': 1, 'grief': 1}\n"
     ]
    }
   ],
   "source": [
    "nombref=input('Introduzca el nombre del fichero')\n",
    "try:\n",
    "    manf=open(nombref)\n",
    "except:\n",
    "    print('El fichero no se pudo abrir')\n",
    "\n",
    "contadores=dict()\n",
    "\n",
    "for linea in manf:\n",
    "    palabras=linea.split()\n",
    "    for palabra in palabras:\n",
    "        if palabra not in contadores:\n",
    "            contadores[palabra]=1\n",
    "        else:\n",
    "            contadores[palabra] += 1\n",
    "            \n",
    "print(contadores)"
   ]
  },
  {
   "cell_type": "markdown",
   "metadata": {},
   "source": [
    "Resulta un poco incómodo buscar a través del diccionario para encontrar cuál es\n",
    "la palabra más común y su contador, de modo que necesitaremos añadir un poco\n",
    "más de código para obtener una salida que nos resulte más ´util.\n"
   ]
  },
  {
   "cell_type": "markdown",
   "metadata": {},
   "source": [
    "## Bucles y diccionarios\n",
    "\n",
    "Si se utiliza un diccionario como secuencia en una sentencia for, ésta recorrerá\n",
    "todas las claves del diccionario. Este bucle imprime cada clave y su valor correspondiente:"
   ]
  },
  {
   "cell_type": "code",
   "execution_count": 22,
   "metadata": {},
   "outputs": [
    {
     "name": "stdout",
     "output_type": "stream",
     "text": [
      "chuck 1\n",
      "annie 42\n",
      "jan 100\n"
     ]
    }
   ],
   "source": [
    "contadores = { 'chuck' : 1 , 'annie' : 42, 'jan': 100}\n",
    "for clave in contadores:\n",
    "    print(clave,contadores[clave])"
   ]
  },
  {
   "cell_type": "markdown",
   "metadata": {},
   "source": [
    "Podemos usar este diseño para poner en práctica las diversas expresiones de bucles\n",
    "que hemos descrito antes. Por ejemplo, si queremos encontrar todas las entradas de\n",
    "un diccionario que tengan un valor superior a diez, podríamos escribir el siguiente\n",
    "código:"
   ]
  },
  {
   "cell_type": "code",
   "execution_count": 23,
   "metadata": {},
   "outputs": [
    {
     "name": "stdout",
     "output_type": "stream",
     "text": [
      "annie 42\n",
      "jan 100\n"
     ]
    }
   ],
   "source": [
    "contadores = { 'chuck' : 1 , 'annie' : 42, 'jan': 100}\n",
    "for clave in contadores:\n",
    "    if contadores[clave] > 10:\n",
    "        print(clave,contadores[clave])"
   ]
  },
  {
   "cell_type": "markdown",
   "metadata": {},
   "source": [
    "Si se quieren imprimir las claves en orden alfabético, primero se debe crear una\n",
    "lista de las claves del diccionario, usando el método keys, que está disponible en\n",
    "los objetos del tipo diccionario. Luego, habrá que ordenar esa lista e irse desplazando\n",
    "a través de la lista ordenada, buscando cada clave e imprimiendo las parejas\n",
    "clave-valor en orden, como se muestra a continuación:"
   ]
  },
  {
   "cell_type": "code",
   "execution_count": 44,
   "metadata": {},
   "outputs": [
    {
     "name": "stdout",
     "output_type": "stream",
     "text": [
      "['chuck', 'annie', 'jan']\n",
      "annie 42\n",
      "chuck 1\n",
      "jan 100\n"
     ]
    }
   ],
   "source": [
    "contadores = { 'chuck' : 1 , 'annie' : 42, 'jan': 100}\n",
    "lista=[]\n",
    "for palabra in contadores:\n",
    "    lista.append(palabra)\n",
    "print(lista)\n",
    "lista.sort()\n",
    "for clave in lista:\n",
    "    print(clave,contadores[clave])"
   ]
  },
  {
   "cell_type": "markdown",
   "metadata": {},
   "source": []
  },
  {
   "cell_type": "markdown",
   "metadata": {},
   "source": [
    "## Procesado avanzado de texto\n",
    "\n",
    "En el ejemplo anterior, al usar el fichero romeo.txt hemos hecho que el archivo\n",
    "fuera lo más sencillo posible, eliminando manualmente todos los signos de puntuación. El texto real tiene montones de esos signos, como se muestra a continuación:\n",
    "\n",
    "But, soft! what light through yonder window breaks?\n",
    "It is the east, and Juliet is the sun.\n",
    "Arise, fair sun, and kill the envious moon,\n",
    "Who is already sick and pale with grief,\n",
    "\n",
    "\n",
    "\n",
    "Dado que la función de Python split busca espacios y trata las palabras como\n",
    "piezas separadas por esos espacios, trataríamos las palabras “soft!” y “soft” como\n",
    "diferentes, y se crearía una entrada diferente en el diccionario para cada una de\n",
    "ellas.\n",
    "\n",
    "Además, dado que el archivo contiene palabras en mayúsculas, también se trataría\n",
    "a “who” y “Who” como palabras diferentes, con contadores distintos.\n",
    "\n",
    "Podemos solventar ambos problemas usando los métodos de cadena lower,\n",
    "punctuation, y translate. translate es el más sutil de estos métodos. Aquí\n",
    "está la documentación para translate:\n",
    "\n",
    "string.translate(s, table[, deletechars])\n",
    "\n",
    "Elimina todos los caracteres de s que hay en deletechars (si existe alguno), y luego\n",
    "traduce los caracteres usando table, que debe ser una cadena de 256-caracteres\n",
    "que proporcione la traducción para cada valor de carácter, indexado por su ordinal.\n",
    "Si la tabla es None, entonces sólo se realizará el borrado de caracteres.\n",
    "\n",
    "Nosotros no especificaremos el valor de table, pero usaremos el parámetro\n",
    "deletechars para eliminar todos los signos de puntuación. Incluso dejaremos\n",
    "que sea el propio Python quien nos diga la lista de caracteres que él considera\n",
    "“signos de puntuación”:"
   ]
  },
  {
   "cell_type": "code",
   "execution_count": 46,
   "metadata": {},
   "outputs": [
    {
     "data": {
      "text/plain": [
       "'!\"#$%&\\'()*+,-./:;<=>?@[\\\\]^_`{|}~'"
      ]
     },
     "execution_count": 46,
     "metadata": {},
     "output_type": "execute_result"
    }
   ],
   "source": [
    "import string\n",
    "string.punctuation"
   ]
  },
  {
   "cell_type": "code",
   "execution_count": 15,
   "metadata": {},
   "outputs": [
    {
     "name": "stdout",
     "output_type": "stream",
     "text": [
      "Introduzca el nombre del ficheroromeo-full.txt\n",
      "{'romeo': 40, 'and': 42, 'juliet': 32, 'act': 1, '2': 2, 'scene': 2, 'ii': 1, 'capulets': 1, 'orchard': 2, 'enter': 1, 'he': 5, 'jests': 1, 'at': 9, 'scars': 1, 'that': 30, 'never': 2, 'felt': 1, 'a': 24, 'wound': 1, 'appears': 1, 'above': 6, 'window': 2, 'but': 18, 'soft': 1, 'what': 11, 'light': 5, 'through': 2, 'yonder': 2, 'breaks': 1, 'it': 22, 'is': 21, 'the': 34, 'east': 1, 'sun': 2, 'arise': 1, 'fair': 4, 'kill': 2, 'envious': 2, 'moon': 4, 'who': 5, 'already': 1, 'sick': 2, 'pale': 1, 'with': 8, 'grief': 2, 'thou': 32, 'her': 14, 'maid': 2, 'art': 7, 'far': 2, 'more': 9, 'than': 6, 'she': 9, 'be': 14, 'not': 18, 'since': 1, 'vestal': 1, 'livery': 1, 'green': 1, 'none': 1, 'fools': 1, 'do': 7, 'wear': 1, 'cast': 1, 'off': 1, 'my': 29, 'lady': 2, 'o': 11, 'love': 24, 'knew': 1, 'were': 9, 'speaks': 3, 'yet': 9, 'says': 1, 'nothing': 1, 'of': 20, 'eye': 2, 'discourses': 1, 'i': 61, 'will': 8, 'answer': 1, 'am': 7, 'too': 8, 'bold': 1, 'tis': 4, 'to': 34, 'me': 18, 'two': 1, 'fairest': 1, 'stars': 2, 'in': 13, 'all': 6, 'heaven': 3, 'having': 1, 'some': 3, 'business': 1, 'entreat': 1, 'eyes': 6, 'twinkle': 1, 'their': 6, 'spheres': 1, 'till': 4, 'they': 5, 'return': 1, 'if': 12, 'there': 3, 'head': 2, 'brightness': 1, 'cheek': 4, 'would': 16, 'shame': 1, 'those': 2, 'as': 12, 'daylight': 1, 'doth': 2, 'lamp': 1, 'airy': 2, 'region': 1, 'stream': 1, 'so': 10, 'bright': 2, 'birds': 1, 'sing': 1, 'think': 2, 'night': 16, 'see': 2, 'how': 5, 'leans': 1, 'upon': 5, 'hand': 4, 'glove': 1, 'might': 1, 'touch': 1, 'ay': 2, 'speak': 4, 'again': 6, 'angel': 1, 'for': 12, 'glorious': 1, 'this': 9, 'being': 2, 'oer': 1, 'winged': 1, 'messenger': 1, 'unto': 1, 'whiteupturned': 1, 'wondering': 1, 'mortals': 1, 'fall': 1, 'back': 4, 'gaze': 1, 'on': 4, 'him': 2, 'when': 2, 'bestrides': 1, 'lazypacing': 1, 'clouds': 1, 'sails': 1, 'bosom': 1, 'air': 1, 'wherefore': 2, 'deny': 2, 'thy': 20, 'father': 1, 'refuse': 1, 'name': 11, 'or': 4, 'wilt': 6, 'sworn': 1, 'ill': 8, 'no': 6, 'longer': 1, 'capulet': 1, 'aside': 1, 'shall': 6, 'hear': 2, 'enemy': 2, 'thyself': 1, 'though': 1, 'montague': 5, 'whats': 2, 'nor': 5, 'foot': 2, 'arm': 1, 'face': 2, 'any': 4, 'other': 4, 'part': 2, 'belonging': 1, 'man': 2, 'which': 7, 'we': 2, 'call': 3, 'rose': 1, 'by': 14, 'smell': 1, 'sweet': 8, 'calld': 1, 'retain': 1, 'dear': 7, 'perfection': 1, 'owes': 1, 'without': 1, 'title': 1, 'doff': 1, 'thee': 24, 'take': 3, 'myself': 2, 'word': 4, 'new': 1, 'baptized': 1, 'henceforth': 1, 'thus': 1, 'bescreend': 1, 'stumblest': 1, 'counsel': 2, 'know': 3, 'tell': 3, 'saint': 2, 'hateful': 1, 'because': 1, 'an': 2, 'had': 1, 'written': 1, 'tear': 2, 'ears': 2, 'have': 13, 'drunk': 1, 'hundred': 1, 'words': 2, 'tongues': 2, 'utterance': 1, 'sound': 2, 'neither': 1, 'either': 1, 'dislike': 1, 'camest': 1, 'hither': 1, 'walls': 2, 'are': 3, 'high': 1, 'hard': 1, 'climb': 1, 'place': 2, 'death': 2, 'considering': 1, 'kinsmen': 2, 'find': 2, 'here': 4, 'loves': 3, 'wings': 1, 'did': 3, 'oerperch': 1, 'these': 2, 'stony': 1, 'limits': 1, 'cannot': 1, 'hold': 1, 'out': 2, 'can': 2, 'dares': 1, 'attempt': 1, 'therefore': 3, 'let': 3, 'murder': 1, 'alack': 1, 'lies': 2, 'peril': 1, 'thine': 2, 'twenty': 2, 'swords': 1, 'look': 1, 'proof': 1, 'against': 1, 'enmity': 1, 'world': 3, 'saw': 1, 'nights': 1, 'cloak': 1, 'hide': 1, 'from': 4, 'sight': 1, 'them': 1, 'life': 1, 'better': 1, 'ended': 1, 'hate': 1, 'prorogued': 1, 'wanting': 1, 'whose': 1, 'direction': 1, 'foundst': 1, 'first': 1, 'prompt': 1, 'inquire': 1, 'lent': 2, 'pilot': 1, 'wert': 1, 'vast': 1, 'shore': 1, 'washd': 1, 'farthest': 1, 'sea': 2, 'adventure': 1, 'such': 2, 'merchandise': 1, 'knowst': 1, 'mask': 1, 'else': 3, 'maiden': 1, 'blush': 1, 'bepaint': 1, 'hast': 1, 'heard': 1, 'tonight': 3, 'fain': 3, 'dwell': 2, 'form': 1, 'spoke': 1, 'farewell': 1, 'compliment': 1, 'dost': 2, 'say': 5, 'swearst': 1, 'mayst': 2, 'prove': 4, 'false': 1, 'lovers': 2, 'perjuries': 1, 'then': 2, 'jove': 1, 'laughs': 1, 'gentle': 1, 'pronounce': 1, 'faithfully': 1, 'thinkst': 1, 'quickly': 1, 'won': 1, 'frown': 1, 'perverse': 1, 'nay': 1, 'woo': 1, 'truth': 1, 'fond': 1, 'havior': 1, 'trust': 1, 'gentleman': 1, 'true': 3, 'cunning': 1, 'strange': 2, 'should': 2, 'been': 1, 'must': 1, 'confess': 1, 'overheardst': 1, 'ere': 2, 'was': 1, 'ware': 1, 'passion': 1, 'pardon': 1, 'impute': 1, 'yielding': 1, 'dark': 1, 'hath': 1, 'discovered': 1, 'blessed': 3, 'swear': 6, 'tips': 1, 'silver': 1, 'fruittree': 1, 'tops': 1, 'inconstant': 1, 'monthly': 1, 'changes': 1, 'circled': 1, 'orb': 1, 'lest': 1, 'likewise': 1, 'variable': 1, 'gracious': 1, 'self': 1, 'god': 1, 'idolatry': 1, 'believe': 1, 'hearts': 1, 'well': 2, 'although': 1, 'joy': 2, 'contract': 1, 'rash': 1, 'unadvised': 1, 'sudden': 1, 'like': 3, 'lightning': 1, 'cease': 2, 'one': 2, 'lightens': 1, 'good': 9, 'bud': 1, 'summers': 1, 'ripening': 1, 'breath': 1, 'may': 2, 'beauteous': 1, 'flower': 1, 'next': 1, 'meet': 1, 'repose': 1, 'rest': 2, 'come': 5, 'heart': 1, 'within': 5, 'breast': 2, 'leave': 2, 'unsatisfied': 1, 'satisfaction': 1, 'canst': 1, 'exchange': 1, 'faithful': 1, 'vow': 1, 'mine': 3, 'gave': 1, 'before': 1, 'didst': 1, 'request': 1, 'give': 3, 'wouldst': 1, 'withdraw': 1, 'purpose': 2, 'frank': 1, 'wish': 1, 'thing': 1, 'bounty': 1, 'boundless': 1, 'deep': 1, 'both': 1, 'infinite': 1, 'nurse': 4, 'calls': 2, 'noise': 1, 'adieu': 1, 'anon': 1, 'stay': 2, 'little': 2, 'exit': 4, 'afeard': 1, 'dream': 1, 'flatteringsweet': 1, 'substantial': 1, 'reenter': 2, 'three': 1, 'indeed': 1, 'bent': 1, 'honourable': 1, 'marriage': 1, 'send': 3, 'tomorrow': 3, 'procure': 1, 'where': 2, 'time': 1, 'perform': 1, 'rite': 1, 'fortunes': 1, 'lay': 1, 'follow': 1, 'lord': 1, 'throughout': 1, 'madam': 2, 'anonbut': 1, 'meanst': 1, 'beseech': 1, 'suit': 1, 'thrive': 1, 'soul': 2, 'thousand': 2, 'times': 2, 'worse': 1, 'want': 1, 'goes': 1, 'toward': 2, 'schoolboys': 1, 'books': 1, 'school': 1, 'heavy': 1, 'looks': 1, 'retiring': 1, 'hist': 2, 'falconers': 1, 'voice': 1, 'lure': 1, 'tasselgentle': 1, 'bondage': 1, 'hoarse': 2, 'aloud': 1, 'cave': 1, 'echo': 1, 'make': 1, 'tongue': 1, 'repetition': 1, 'romeos': 1, 'silversweet': 1, 'softest': 1, 'music': 1, 'attending': 1, 'oclock': 1, 'hour': 1, 'nine': 1, 'fail': 1, 'years': 1, 'forgot': 1, 'why': 1, 'stand': 2, 'remember': 1, 'forget': 2, 'still': 3, 'remembering': 1, 'company': 1, 'forgetting': 1, 'home': 1, 'almost': 1, 'morning': 1, 'gone': 1, 'further': 1, 'wantons': 1, 'bird': 2, 'lets': 1, 'hop': 1, 'poor': 1, 'prisoner': 1, 'his': 3, 'twisted': 1, 'gyves': 1, 'silk': 1, 'thread': 1, 'plucks': 1, 'lovingjealous': 1, 'liberty': 1, 'much': 1, 'cherishing': 1, 'parting': 1, 'sorrow': 1, 'morrow': 1, 'sleep': 2, 'peace': 2, 'hence': 1, 'ghostly': 1, 'fathers': 1, 'cell': 1, 'help': 1, 'crave': 1, 'hap': 1}\n"
     ]
    }
   ],
   "source": [
    "nombref=input('Introduzca el nombre del fichero')\n",
    "try:\n",
    "    manf=open(nombref)\n",
    "except:\n",
    "    print('El fichero no se pudo abrir')\n",
    "\n",
    "contadores=dict()\n",
    "\n",
    "for linea in manf:\n",
    "    translator = str.maketrans('', '', string.punctuation)\n",
    "    linea = linea.translate(translator)\n",
    "    linea=linea.lower()\n",
    "    palabras=linea.split()\n",
    "    for palabra in palabras:\n",
    "        if palabra not in contadores:\n",
    "            contadores[palabra]=1\n",
    "        else:\n",
    "            contadores[palabra] += 1\n",
    "            \n",
    "print(contadores)\n",
    "\n"
   ]
  },
  {
   "cell_type": "code",
   "execution_count": 24,
   "metadata": {},
   "outputs": [
    {
     "name": "stdout",
     "output_type": "stream",
     "text": [
      "61\n"
     ]
    }
   ],
   "source": [
    "\n",
    "maximo=max(contadores.values())\n",
    "print(maximo)"
   ]
  },
  {
   "cell_type": "code",
   "execution_count": 27,
   "metadata": {},
   "outputs": [
    {
     "name": "stdout",
     "output_type": "stream",
     "text": [
      "i\n"
     ]
    }
   ],
   "source": [
    "for valor in contadores:   #para ver la palabra que mas se repite\n",
    "    if contadores[valor] != 61:\n",
    "        continue\n",
    "    print(valor)"
   ]
  },
  {
   "cell_type": "code",
   "execution_count": null,
   "metadata": {},
   "outputs": [],
   "source": []
  }
 ],
 "metadata": {
  "kernelspec": {
   "display_name": "Python 3",
   "language": "python",
   "name": "python3"
  },
  "language_info": {
   "codemirror_mode": {
    "name": "ipython",
    "version": 3
   },
   "file_extension": ".py",
   "mimetype": "text/x-python",
   "name": "python",
   "nbconvert_exporter": "python",
   "pygments_lexer": "ipython3",
   "version": "3.7.6"
  },
  "latex_envs": {
   "LaTeX_envs_menu_present": true,
   "autoclose": true,
   "autocomplete": true,
   "bibliofile": "biblio.bib",
   "cite_by": "apalike",
   "current_citInitial": 1,
   "eqLabelWithNumbers": true,
   "eqNumInitial": 1,
   "hotkeys": {
    "equation": "Ctrl-E",
    "itemize": "Ctrl-I"
   },
   "labels_anchors": false,
   "latex_user_defs": false,
   "report_style_numbering": true,
   "user_envs_cfg": false
  }
 },
 "nbformat": 4,
 "nbformat_minor": 4
}
