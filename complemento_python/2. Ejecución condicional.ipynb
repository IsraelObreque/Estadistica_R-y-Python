{
 "cells": [
  {
   "cell_type": "markdown",
   "metadata": {},
   "source": [
    "# Ejecución Condicional\n",
    "\n",
    "## Expresiones booleanas\n",
    "\n",
    "Una expresión booleana es aquella que puede ser verdadera (True) o falsa\n",
    "(False). Los ejemplos siguientes **usan el operador ==**, que compara dos operandos\n",
    "y devuelve True si son iguales y False en caso contrario"
   ]
  },
  {
   "cell_type": "code",
   "execution_count": 1,
   "metadata": {},
   "outputs": [
    {
     "data": {
      "text/plain": [
       "True"
      ]
     },
     "execution_count": 1,
     "metadata": {},
     "output_type": "execute_result"
    }
   ],
   "source": [
    "5==5"
   ]
  },
  {
   "cell_type": "code",
   "execution_count": 2,
   "metadata": {},
   "outputs": [
    {
     "data": {
      "text/plain": [
       "False"
      ]
     },
     "execution_count": 2,
     "metadata": {},
     "output_type": "execute_result"
    }
   ],
   "source": [
    "6==5"
   ]
  },
  {
   "cell_type": "markdown",
   "metadata": {},
   "source": [
    "## Ejecución Condicional\n"
   ]
  },
  {
   "cell_type": "code",
   "execution_count": 1,
   "metadata": {},
   "outputs": [
    {
     "name": "stdout",
     "output_type": "stream",
     "text": [
      "ingresa un numero: 54\n",
      "el número es positivo\n"
     ]
    }
   ],
   "source": [
    "x=input('ingresa un numero: ')\n",
    "y=int(x)\n",
    "if y>0 :\n",
    "    print('el número es positivo')\n",
    "if y<0:\n",
    "    print('el número es negativo')\n"
   ]
  },
  {
   "cell_type": "markdown",
   "metadata": {},
   "source": [
    "No hay límite en el número de sentencias que pueden aparecer en el cuerpo, pero\n",
    "debe haber al menos una. Ocasionalmente, puede resultar útil tener un cuerpo sin\n",
    "sentencias (normalmente como emplazamiento reservado para código que no se\n",
    "ha escrito áun). En ese caso, se puede usar la sentencia **pass**, que no hace nada"
   ]
  },
  {
   "cell_type": "code",
   "execution_count": 4,
   "metadata": {},
   "outputs": [],
   "source": [
    "x=-2\n",
    "if x<0:\n",
    "    pass"
   ]
  },
  {
   "cell_type": "markdown",
   "metadata": {},
   "source": [
    "## Ejecución alternativa\n",
    "\n",
    "La segunda forma de la sentencia if es la **ejecución alternativa**, en la cual existen\n",
    "dos posibilidades y la condición determina cual de ellas será ejecutada. La sintaxis\n",
    "es similar a ésta:"
   ]
  },
  {
   "cell_type": "code",
   "execution_count": 6,
   "metadata": {},
   "outputs": [
    {
     "name": "stdout",
     "output_type": "stream",
     "text": [
      "ingrese un número3\n",
      "x es impar\n"
     ]
    }
   ],
   "source": [
    "x=int(input('ingrese un número'))\n",
    "if x%2==0:\n",
    "    print('x es par')\n",
    "else:\n",
    "    print('x es impar')"
   ]
  },
  {
   "cell_type": "markdown",
   "metadata": {},
   "source": [
    "# Condicionales encadenados\n",
    "\n",
    "Algunas veces hay más de dos posibilidades, de modo que necesitamos más de\n",
    "dos ramas. Una forma de expresar una operación como ésa es usar un condicional\n",
    "encadenado:"
   ]
  },
  {
   "cell_type": "code",
   "execution_count": 16,
   "metadata": {},
   "outputs": [
    {
     "name": "stdout",
     "output_type": "stream",
     "text": [
      "ingrese un número: 3\n",
      "ingrese otro número: 4\n",
      "3 es menor que 4\n"
     ]
    }
   ],
   "source": [
    "x=int(input('ingrese un número: '))\n",
    "y=int(input('ingrese otro número: '))\n",
    "\n",
    "if x<y:\n",
    "    print(x,'es menor que',y)\n",
    "elif x>y:\n",
    "    print(x,'es mayor que',y)\n",
    "else:\n",
    "    print('los números ingresados son iguales')"
   ]
  },
  {
   "cell_type": "markdown",
   "metadata": {},
   "source": [
    "## Condicionales anidados\n",
    "\n",
    "Un condicional puede también estar anidado dentro de otro. Veamos un ejemplo:\n"
   ]
  },
  {
   "cell_type": "code",
   "execution_count": null,
   "metadata": {},
   "outputs": [],
   "source": [
    "x=int(input('ingrese un número: '))\n",
    "y=int(input('ingrese otro número: '))\n",
    "\n",
    "if x==y:\n",
    "    print('los números son iguales')\n",
    "else:\n",
    "    if x<y:\n",
    "        print(x,'es menor que',y)\n",
    "    else:\n",
    "        print(x,'es mayor que',y)"
   ]
  },
  {
   "cell_type": "markdown",
   "metadata": {},
   "source": [
    "Hay operadores que pueden evitar el uso de condicionales anidados, consideremos el siguiente ejemplo:\n",
    "    \n",
    "    "
   ]
  },
  {
   "cell_type": "code",
   "execution_count": 1,
   "metadata": {},
   "outputs": [
    {
     "name": "stdout",
     "output_type": "stream",
     "text": [
      "ingrese un número5\n",
      "5 es un número positivo con un solo digito\n"
     ]
    }
   ],
   "source": [
    "x=int(input('ingrese un número'))\n",
    "if x>0:\n",
    "    if x<10:\n",
    "        print(x,'es un número positivo con un solo digito')\n",
    "    "
   ]
  },
  {
   "cell_type": "markdown",
   "metadata": {},
   "source": [
    "La sentencia print se ejecuta solamente si se cumplen las dos condiciones anteriores,\n",
    "así que en realidad podemos conseguir el mismo efecto con el operador\n",
    "**and**:"
   ]
  },
  {
   "cell_type": "code",
   "execution_count": null,
   "metadata": {},
   "outputs": [],
   "source": [
    "if x<10 and x>0:\n",
    "    print('x es un numero positivo con un solo digito')"
   ]
  },
  {
   "cell_type": "markdown",
   "metadata": {},
   "source": [
    "# Captura de excepciones usando try y except\n",
    "\n",
    "La idea de **try** y **except** es que si se sabe que cierta secuencia de instrucciones puede generar un problema, sea posible añadir ciertas sentencias para que sean ejecutadas en caso de\n",
    "error. Estas sentencias extras (el bloque except) serán ignoradas si no se produce\n",
    "\n",
    "Puedes pensar en la característica **try** y **except** de Python como una “póliza de\n",
    "seguros” en una secuencia de sentencias.\n",
    "\n",
    "Ejemplo:\n"
   ]
  },
  {
   "cell_type": "code",
   "execution_count": 5,
   "metadata": {},
   "outputs": [
    {
     "name": "stdout",
     "output_type": "stream",
     "text": [
      "introduzca la temperatura en fahrenheit: gonzalo\n",
      "por favor, introduzca un número\n"
     ]
    }
   ],
   "source": [
    "ent=input('introduzca la temperatura en fahrenheit: ')\n",
    "try:\n",
    "    fahr=float(ent)\n",
    "    cel=(fahr-32.0)*5.0/9.0\n",
    "    print(cel)\n",
    "except:\n",
    "    print('por favor, introduzca un número')"
   ]
  },
  {
   "cell_type": "markdown",
   "metadata": {},
   "source": [
    "**Ejercicio:** Escribe un programa que solicite una puntuación entre 0.0 y 1.0. Si\n",
    "la puntuación está fuera de ese rango, muestra un mensaje de error. Si la puntuación está entre 0.0 y 1.0, muestra la calificación usando la tabla siguiente:\n",
    "\n",
    "Puntuación Calificación:\n",
    "\n",
    "$$>=0.9 \\quad Sobresaliente$$ \n",
    "$$>=0.8 \\quad  Notable$$ \n",
    "$$>=0.7 \\quad  Bien$$ \n",
    "$$>=0.6 \\quad  Suficiente$$\n",
    "$$<0.6  \\quad  Insuficiente$$"
   ]
  },
  {
   "cell_type": "code",
   "execution_count": 2,
   "metadata": {},
   "outputs": [
    {
     "name": "stdout",
     "output_type": "stream",
     "text": [
      "ingrese calificación: perro\n",
      "error, ingresa una nota\n"
     ]
    }
   ],
   "source": [
    "ent=input('ingrese calificación: ')\n",
    "\n",
    "try:\n",
    "    nota=float(ent)\n",
    "    if nota>=0.0 and nota<=1.0:\n",
    "        if nota>=0.9 :\n",
    "            print('Sobresaliente')\n",
    "        elif nota>=0.8 and nota<0.9:\n",
    "            print('Notable')\n",
    "        elif nota>= 0.7 and nota<0.8:\n",
    "            print('Bien')\n",
    "        elif nota>=0.6 and nota<0.7:\n",
    "            print('Suficiente')\n",
    "        else:\n",
    "            print('insuficiente')\n",
    "    else:\n",
    "        print('puntuación incorrecta')\n",
    "except:\n",
    "    print('error, ingresa una nota')"
   ]
  }
 ],
 "metadata": {
  "kernelspec": {
   "display_name": "Python 3",
   "language": "python",
   "name": "python3"
  },
  "language_info": {
   "codemirror_mode": {
    "name": "ipython",
    "version": 3
   },
   "file_extension": ".py",
   "mimetype": "text/x-python",
   "name": "python",
   "nbconvert_exporter": "python",
   "pygments_lexer": "ipython3",
   "version": "3.7.6"
  },
  "latex_envs": {
   "LaTeX_envs_menu_present": true,
   "autoclose": true,
   "autocomplete": true,
   "bibliofile": "biblio.bib",
   "cite_by": "apalike",
   "current_citInitial": 1,
   "eqLabelWithNumbers": true,
   "eqNumInitial": 1,
   "hotkeys": {
    "equation": "Ctrl-E",
    "itemize": "Ctrl-I"
   },
   "labels_anchors": false,
   "latex_user_defs": false,
   "report_style_numbering": true,
   "user_envs_cfg": false
  }
 },
 "nbformat": 4,
 "nbformat_minor": 4
}
