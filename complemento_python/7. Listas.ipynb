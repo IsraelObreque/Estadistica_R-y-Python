{
 "cells": [
  {
   "cell_type": "markdown",
   "metadata": {},
   "source": [
    "# una lista es una secuencia\n",
    "\n",
    "Al igual que una cadena, una lista es una secuencia de valores. En una cadena, los\n",
    "valores son caracteres; en una lista, pueden ser de cualquier tipo. Los valores en\n",
    "las listas reciben el nombre de elementos, o a veces artículos.\n",
    "\n",
    "Hay varios modos de crear una lista nueva; el más simple consiste en encerrar los\n",
    "elementos entre corchetes ([ y ]):"
   ]
  },
  {
   "cell_type": "code",
   "execution_count": 1,
   "metadata": {},
   "outputs": [
    {
     "name": "stdout",
     "output_type": "stream",
     "text": [
      "[10, 20, 30, 40] ['pucho', 'pulo', 'niña', 'nala'] ['spam', 2.0, 5, [10, 20]]\n"
     ]
    }
   ],
   "source": [
    "lista1=[10,20,30,40]\n",
    "lista2=['pucho','pulo','niña','nala']\n",
    "lista3=['spam',2.0,5,[10,20]]\n",
    "print(lista1,lista2,lista3)"
   ]
  },
  {
   "cell_type": "markdown",
   "metadata": {},
   "source": [
    "Una lista dentro de otra se dice que está **anidada**."
   ]
  },
  {
   "cell_type": "code",
   "execution_count": 10,
   "metadata": {},
   "outputs": [
    {
     "name": "stdout",
     "output_type": "stream",
     "text": [
      "[]\n"
     ]
    }
   ],
   "source": [
    "vacia=[] #Lista vacia\n",
    "print(vacia)"
   ]
  },
  {
   "cell_type": "markdown",
   "metadata": {},
   "source": [
    "La sintaxis para acceder a los elementos de una lista es la misma que para acceder\n",
    "a los caracteres de una cadena—el operador corchete. La expresión dentro de los\n",
    "corchetes especifica el índice. Recuerda que los índices comienzan por 0:"
   ]
  },
  {
   "cell_type": "code",
   "execution_count": 11,
   "metadata": {},
   "outputs": [
    {
     "name": "stdout",
     "output_type": "stream",
     "text": [
      "pucho\n"
     ]
    }
   ],
   "source": [
    "print(lista2[0])"
   ]
  },
  {
   "cell_type": "markdown",
   "metadata": {},
   "source": [
    "A diferencia de las cadenas, las listas son mutables (pueden mutar), porque puedes\n",
    "cambiar el orden de los elementos o reasignar un elemento dentro de la lista.\n",
    "Cuando el operador corchete aparece en el lado izquierdo de una asignación, éste\n",
    "identifica el elemento de la lista que será asignado."
   ]
  },
  {
   "cell_type": "code",
   "execution_count": 12,
   "metadata": {},
   "outputs": [
    {
     "name": "stdout",
     "output_type": "stream",
     "text": [
      "[17, 5]\n"
     ]
    }
   ],
   "source": [
    "numeros=[17,123]\n",
    "numeros[1]=5\n",
    "print(numeros)"
   ]
  },
  {
   "cell_type": "markdown",
   "metadata": {},
   "source": [
    "Puedes pensar en una lista como una relación entre índices y elementos. Esta relación recibe el nombre de mapeo o direccionamiento; cada índice “dirige a” uno de los elementos.\n",
    "\n",
    "El operador in también funciona en las listas"
   ]
  },
  {
   "cell_type": "code",
   "execution_count": 14,
   "metadata": {},
   "outputs": [
    {
     "data": {
      "text/plain": [
       "True"
      ]
     },
     "execution_count": 14,
     "metadata": {},
     "output_type": "execute_result"
    }
   ],
   "source": [
    "'pucho' in lista2"
   ]
  },
  {
   "cell_type": "markdown",
   "metadata": {},
   "source": [
    "## Recorrer una lista\n",
    "\n",
    "Los bubles **for** iteran sobre una colección  (una lista, un string, un objeto iterable)"
   ]
  },
  {
   "cell_type": "code",
   "execution_count": 15,
   "metadata": {},
   "outputs": [
    {
     "name": "stdout",
     "output_type": "stream",
     "text": [
      "pucho\n",
      "pulo\n",
      "niña\n",
      "nala\n"
     ]
    }
   ],
   "source": [
    "for perro in lista2:\n",
    "    print(perro)"
   ]
  },
  {
   "cell_type": "markdown",
   "metadata": {},
   "source": [
    "Esto funciona correctamente si sólo se necesita leer los elementos de la lista. Pero\n",
    "si quieres escribir o modificar los elementos, necesitarás los índices. Un modo\n",
    "habitual de hacerlo consiste en combinar las funciones *range y len*:"
   ]
  },
  {
   "cell_type": "code",
   "execution_count": 22,
   "metadata": {},
   "outputs": [
    {
     "name": "stdout",
     "output_type": "stream",
     "text": [
      "[2, 4]\n"
     ]
    }
   ],
   "source": [
    "numeros=[1,2]\n",
    "for i in range(len(numeros)):\n",
    "    numeros[i]=numeros[i]*2\n",
    "print(numeros)"
   ]
  },
  {
   "cell_type": "markdown",
   "metadata": {},
   "source": [
    "Este bucle recorre la lista y actualiza cada elemento. len devuelve el número de\n",
    "elementos de la lista. range devuelve una lista de índices desde 0 hasta n−1,\n",
    "donde n es la longitud de la lista\n",
    "\n",
    "A pesar de que una lista puede contener otra, la lista anidada sólo cuenta como un\n",
    "único elemento"
   ]
  },
  {
   "cell_type": "markdown",
   "metadata": {},
   "source": [
    "recorriendo caracteres"
   ]
  },
  {
   "cell_type": "code",
   "execution_count": 2,
   "metadata": {},
   "outputs": [
    {
     "name": "stdout",
     "output_type": "stream",
     "text": [
      "I\n",
      "s\n",
      "r\n",
      "a\n",
      "e\n",
      "l\n"
     ]
    }
   ],
   "source": [
    "for c in \"Israel\":\n",
    "    print(c)"
   ]
  },
  {
   "cell_type": "markdown",
   "metadata": {},
   "source": [
    "## Operaciones con listas\n",
    "\n",
    "el operador + concatena listas:\n",
    "\n"
   ]
  },
  {
   "cell_type": "code",
   "execution_count": 1,
   "metadata": {},
   "outputs": [
    {
     "data": {
      "text/plain": [
       "[1, 2, 3, 4, 5, 6]"
      ]
     },
     "execution_count": 1,
     "metadata": {},
     "output_type": "execute_result"
    }
   ],
   "source": [
    "a=[1,2,3]\n",
    "b=[4,5,6]\n",
    "a+b"
   ]
  },
  {
   "cell_type": "markdown",
   "metadata": {},
   "source": [
    "De forma similar, el operador * repite una lista el número especificado de veces:"
   ]
  },
  {
   "cell_type": "code",
   "execution_count": 2,
   "metadata": {},
   "outputs": [
    {
     "data": {
      "text/plain": [
       "[0, 0, 0, 0]"
      ]
     },
     "execution_count": 2,
     "metadata": {},
     "output_type": "execute_result"
    }
   ],
   "source": [
    "[0]*4"
   ]
  },
  {
   "cell_type": "code",
   "execution_count": 3,
   "metadata": {},
   "outputs": [
    {
     "data": {
      "text/plain": [
       "[1, 2, 3, 1, 2, 3, 1, 2, 3, 1, 2, 3]"
      ]
     },
     "execution_count": 3,
     "metadata": {},
     "output_type": "execute_result"
    }
   ],
   "source": [
    "[1,2,3]*4"
   ]
  },
  {
   "cell_type": "markdown",
   "metadata": {},
   "source": [
    "## Rebanado de listas"
   ]
  },
  {
   "cell_type": "markdown",
   "metadata": {},
   "source": [
    "El operador de rebanada (slice) también funciona en listas:"
   ]
  },
  {
   "cell_type": "code",
   "execution_count": 4,
   "metadata": {},
   "outputs": [
    {
     "data": {
      "text/plain": [
       "['b', 'c']"
      ]
     },
     "execution_count": 4,
     "metadata": {},
     "output_type": "execute_result"
    }
   ],
   "source": [
    "t=['a','b','c','d','e','f']\n",
    "t[1:3]"
   ]
  },
  {
   "cell_type": "code",
   "execution_count": 5,
   "metadata": {},
   "outputs": [
    {
     "data": {
      "text/plain": [
       "['a', 'b', 'c', 'd']"
      ]
     },
     "execution_count": 5,
     "metadata": {},
     "output_type": "execute_result"
    }
   ],
   "source": [
    "t[:4]"
   ]
  },
  {
   "cell_type": "code",
   "execution_count": 6,
   "metadata": {},
   "outputs": [
    {
     "data": {
      "text/plain": [
       "['d', 'e', 'f']"
      ]
     },
     "execution_count": 6,
     "metadata": {},
     "output_type": "execute_result"
    }
   ],
   "source": [
    "t[3:]"
   ]
  },
  {
   "cell_type": "code",
   "execution_count": 7,
   "metadata": {},
   "outputs": [
    {
     "data": {
      "text/plain": [
       "['a', 'b', 'c', 'd', 'e', 'f']"
      ]
     },
     "execution_count": 7,
     "metadata": {},
     "output_type": "execute_result"
    }
   ],
   "source": [
    "t[:]"
   ]
  },
  {
   "cell_type": "markdown",
   "metadata": {},
   "source": [
    "Un operador de rebanada en la parte izquierda de una asignación puede modificar\n",
    "múltiples elementos:"
   ]
  },
  {
   "cell_type": "code",
   "execution_count": 8,
   "metadata": {},
   "outputs": [
    {
     "name": "stdout",
     "output_type": "stream",
     "text": [
      "['a', 'x', 'y', 'd', 'e', 'f']\n"
     ]
    }
   ],
   "source": [
    "t[1:3]=['x','y']\n",
    "print(t)"
   ]
  },
  {
   "cell_type": "markdown",
   "metadata": {},
   "source": [
    "## Métodos de listas"
   ]
  },
  {
   "cell_type": "markdown",
   "metadata": {},
   "source": [
    "Python proporciona varios métodos que operan con listas. Por ejemplo, append\n",
    "a˜nade un nuevo elemento al final de una lista:"
   ]
  },
  {
   "cell_type": "code",
   "execution_count": 10,
   "metadata": {},
   "outputs": [
    {
     "name": "stdout",
     "output_type": "stream",
     "text": [
      "['a', 'b', 'c', 'd']\n"
     ]
    }
   ],
   "source": [
    "t=['a','b','c']\n",
    "t.append('d')\n",
    "print(t)"
   ]
  },
  {
   "cell_type": "markdown",
   "metadata": {},
   "source": [
    "**extend** toma una lista como argumento y a˜nade al final de la actual todos sus\n",
    "elementos"
   ]
  },
  {
   "cell_type": "code",
   "execution_count": 11,
   "metadata": {},
   "outputs": [
    {
     "name": "stdout",
     "output_type": "stream",
     "text": [
      "[1, 2, 3, 4, 5, 6]\n"
     ]
    }
   ],
   "source": [
    "t1=[1,2,3]\n",
    "t2=[4,5,6]\n",
    "t1.extend(t2)\n",
    "print(t1)         # En este ejemplo, t2 no se modifica.\n"
   ]
  },
  {
   "cell_type": "markdown",
   "metadata": {},
   "source": [
    "**sort** ordena los elementos de una lista de menor a mayor:\n"
   ]
  },
  {
   "cell_type": "code",
   "execution_count": 15,
   "metadata": {},
   "outputs": [
    {
     "name": "stdout",
     "output_type": "stream",
     "text": [
      "['a', 'b', 'c', 'd']\n"
     ]
    }
   ],
   "source": [
    "t3=['b','c','d','a']\n",
    "t3.sort()\n",
    "print(t3)"
   ]
  },
  {
   "cell_type": "markdown",
   "metadata": {},
   "source": [
    "## Borrado de elementos"
   ]
  },
  {
   "cell_type": "markdown",
   "metadata": {},
   "source": [
    "Hay varias formas de borrar elementos de una lista. Si conoces el índice del elemento\n",
    "que quieres eliminar, puedes usar **pop**:"
   ]
  },
  {
   "cell_type": "code",
   "execution_count": 17,
   "metadata": {},
   "outputs": [
    {
     "name": "stdout",
     "output_type": "stream",
     "text": [
      "['a', 'c'] b\n"
     ]
    }
   ],
   "source": [
    "t=['a','b','c']\n",
    "x=t.pop(1)\n",
    "print(t,x)\n"
   ]
  },
  {
   "cell_type": "markdown",
   "metadata": {},
   "source": [
    "pop modifica la lista y devuelve el elemento que ha sido eliminado. Si no le proporcionas\n",
    "un índice, borra y devuelve el último elemento."
   ]
  },
  {
   "cell_type": "markdown",
   "metadata": {},
   "source": [
    "Si no necesitas el valor eliminado, puedes usar el operador **del**:"
   ]
  },
  {
   "cell_type": "code",
   "execution_count": 18,
   "metadata": {},
   "outputs": [
    {
     "name": "stdout",
     "output_type": "stream",
     "text": [
      "['a', 'c']\n"
     ]
    }
   ],
   "source": [
    "t=['a','b','c']\n",
    "del t[1]\n",
    "print(t)"
   ]
  },
  {
   "cell_type": "markdown",
   "metadata": {},
   "source": [
    "Si conoces el elemento que quieres eliminar (pero no su índice), puedes usar\n",
    "remove:\n"
   ]
  },
  {
   "cell_type": "code",
   "execution_count": 19,
   "metadata": {},
   "outputs": [
    {
     "name": "stdout",
     "output_type": "stream",
     "text": [
      "['a', 'c']\n"
     ]
    }
   ],
   "source": [
    "t=['a','b','c']\n",
    "t.remove('b')\n",
    "print(t)"
   ]
  },
  {
   "cell_type": "markdown",
   "metadata": {},
   "source": [
    "Para eliminar más de un elemento, puedes usar del con un índice de rebanada:"
   ]
  },
  {
   "cell_type": "code",
   "execution_count": 20,
   "metadata": {},
   "outputs": [
    {
     "name": "stdout",
     "output_type": "stream",
     "text": [
      "['a', 'f']\n"
     ]
    }
   ],
   "source": [
    "t = ['a', 'b', 'c', 'd', 'e', 'f']\n",
    "del t[1:5]\n",
    "print(t)"
   ]
  },
  {
   "cell_type": "markdown",
   "metadata": {},
   "source": [
    "## Listas y funciones\n",
    "\n",
    "Hay varias funciones internas que pueden utilizarse en las listas y que nos permiten\n",
    "buscar rápidamente a través de ellas sin tener que escribir nuestros propios bucles:\n"
   ]
  },
  {
   "cell_type": "code",
   "execution_count": 21,
   "metadata": {},
   "outputs": [
    {
     "name": "stdout",
     "output_type": "stream",
     "text": [
      "6\n"
     ]
    }
   ],
   "source": [
    "nums=[3,41,12,9,74,15]\n",
    "print(len(nums))"
   ]
  },
  {
   "cell_type": "code",
   "execution_count": 22,
   "metadata": {},
   "outputs": [
    {
     "name": "stdout",
     "output_type": "stream",
     "text": [
      "74\n"
     ]
    }
   ],
   "source": [
    "print(max(nums))"
   ]
  },
  {
   "cell_type": "code",
   "execution_count": 23,
   "metadata": {},
   "outputs": [
    {
     "name": "stdout",
     "output_type": "stream",
     "text": [
      "3\n"
     ]
    }
   ],
   "source": [
    "print(min(nums))"
   ]
  },
  {
   "cell_type": "code",
   "execution_count": 24,
   "metadata": {},
   "outputs": [
    {
     "name": "stdout",
     "output_type": "stream",
     "text": [
      "154\n"
     ]
    }
   ],
   "source": [
    "print(sum(nums))"
   ]
  },
  {
   "cell_type": "code",
   "execution_count": 25,
   "metadata": {},
   "outputs": [
    {
     "name": "stdout",
     "output_type": "stream",
     "text": [
      "25.666666666666668\n"
     ]
    }
   ],
   "source": [
    "print(sum(nums)/len(nums))"
   ]
  },
  {
   "cell_type": "markdown",
   "metadata": {},
   "source": [
    "La función sum() solamente funciona cuando los elementos de la lista son números.\n",
    "Las otras funciones (max(), len(), etc.) funcionan también con listas de cadenas\n",
    "y otros tipos que se puedan comparar.\n",
    "\n",
    "Podemos reescribir un programa anterior que calculaba la media de varios nímeros\n",
    "introducidos por el usuario, usando ahora una lista.\n",
    "\n",
    "primero el programa sin usar listas"
   ]
  },
  {
   "cell_type": "code",
   "execution_count": 27,
   "metadata": {},
   "outputs": [
    {
     "name": "stdout",
     "output_type": "stream",
     "text": [
      "Introduzca número:10\n",
      "Introduzca número:20\n",
      "Introduzca número:fin\n",
      "El promedio es: 15.0\n"
     ]
    }
   ],
   "source": [
    "total=0\n",
    "contador=0\n",
    "while True:\n",
    "    ent=input('Introduzca número:')\n",
    "    if ent == 'fin':\n",
    "        break\n",
    "    valor=float(ent)\n",
    "    total=total+valor\n",
    "    contador=contador+1\n",
    "    \n",
    "media=total/contador\n",
    "\n",
    "print('El promedio es:',media)\n",
    "    "
   ]
  },
  {
   "cell_type": "markdown",
   "metadata": {},
   "source": [
    "En este programa, tenemos las variables contador y total para almacenar la cantidad\n",
    "y el total actual de los números del usuario según éste los va introduciendo.\n",
    "Podemos simplemente guardar cada número que el usuario introduzca y usar las\n",
    "funciones internas para calcular la suma y la cantidad de números introducidos al\n",
    "final."
   ]
  },
  {
   "cell_type": "code",
   "execution_count": 28,
   "metadata": {},
   "outputs": [
    {
     "name": "stdout",
     "output_type": "stream",
     "text": [
      "Introduzca un número:10\n",
      "Introduzca un número:20\n",
      "Introduzca un número:fin\n",
      "La media es: 15.0\n"
     ]
    }
   ],
   "source": [
    "listnum=[]\n",
    "while True:\n",
    "    ent=input('Introduzca un número:')\n",
    "    if ent== 'fin':\n",
    "        break\n",
    "    valor=float(ent)\n",
    "    listnum.append(valor)\n",
    "    \n",
    "media=sum(listnum)/len(listnum)\n",
    "print('La media es:',media)"
   ]
  },
  {
   "cell_type": "markdown",
   "metadata": {},
   "source": [
    "## Listas y cadenas"
   ]
  },
  {
   "cell_type": "markdown",
   "metadata": {},
   "source": [
    "Una cadena es una secuencia de caracteres y una lista es una secuencia de valores,\n",
    "pero una lista de caracteres no es lo mismo que una cadena. Para convertir desde una cadena a una lista de caracteres, se puede usar la función list:"
   ]
  },
  {
   "cell_type": "code",
   "execution_count": 2,
   "metadata": {},
   "outputs": [
    {
     "name": "stdout",
     "output_type": "stream",
     "text": [
      "['s', 'p', 'a', 'm']\n"
     ]
    }
   ],
   "source": [
    "s='spam'\n",
    "t=list(s)\n",
    "print(t)"
   ]
  },
  {
   "cell_type": "markdown",
   "metadata": {},
   "source": [
    "Debido a que list es el nombre de una función interna, debes evitar usarla como\n",
    "nombre de variable.\n",
    "\n",
    "La función list divide una cadena en letras individuales. Si quieres dividir una\n",
    "cadena en palabras, puedes usar el método split:\n"
   ]
  },
  {
   "cell_type": "code",
   "execution_count": 6,
   "metadata": {},
   "outputs": [
    {
     "name": "stdout",
     "output_type": "stream",
     "text": [
      "['suspirando', 'por', 'los', 'fiordos']\n",
      "['s', 'u', 's', 'p', 'i', 'r', 'a', 'n', 'd', 'o', ' ', 'p', 'o', 'r', ' ', 'l', 'o', 's', ' ', 'f', 'i', 'o', 'r', 'd', 'o', 's']\n",
      "los\n"
     ]
    }
   ],
   "source": [
    "s='suspirando por los fiordos'\n",
    "t=s.split()\n",
    "print(t)\n",
    "s2=list(s)\n",
    "print(s2)\n",
    "print(t[2])"
   ]
  },
  {
   "cell_type": "markdown",
   "metadata": {},
   "source": [
    "Puedes llamar a split con un argumento opcional llamado **delimitador**, que especifica\n",
    "qué caracteres se deben usar como delimitadores de palabras. El ejemplo\n",
    "siguiente usa un guión como delimitador"
   ]
  },
  {
   "cell_type": "code",
   "execution_count": 11,
   "metadata": {},
   "outputs": [
    {
     "data": {
      "text/plain": [
       "['spam', 'spam', 'spam']"
      ]
     },
     "execution_count": 11,
     "metadata": {},
     "output_type": "execute_result"
    }
   ],
   "source": [
    "s='spam-spam-spam'\n",
    "delimitador='-'\n",
    "s.split(delimitador)\n"
   ]
  },
  {
   "cell_type": "markdown",
   "metadata": {},
   "source": [
    "**join** es la inversa de split. Toma una lista de cadenas y concatena sus elementos.\n",
    "join es un método de cadena, de modo que debes invocarlo sobre el delimitador\n",
    "y pasarle la lista como un parámetro:"
   ]
  },
  {
   "cell_type": "code",
   "execution_count": 13,
   "metadata": {},
   "outputs": [
    {
     "data": {
      "text/plain": [
       "'suspirando por los fiordos'"
      ]
     },
     "execution_count": 13,
     "metadata": {},
     "output_type": "execute_result"
    }
   ],
   "source": [
    "t=['suspirando','por','los','fiordos']\n",
    "delimitador=' '\n",
    "delimitador.join(t)"
   ]
  },
  {
   "cell_type": "markdown",
   "metadata": {},
   "source": [
    "En caso de que el delimitador sea el carácter espacio, entonces join coloca un\n",
    "espacio entre las palabras. Para concatenar cadenas sin espacios, puedes usar la\n",
    "cadena vacía, '', como delimitador."
   ]
  },
  {
   "cell_type": "markdown",
   "metadata": {},
   "source": [
    "## Análisis de líneas\n",
    "\n",
    "¿Qué ocurre si queremos imprimir el día de la semana de aquellas líneas que comienzan por “From ”?\n",
    "\n",
    "From stephen.marquard@uct.ac.za Sat Jan 5 09:14:16 2008\n",
    "\n",
    "El método split es muy efectivo cuando nos enfrentamos con este tipo de problemas.\n",
    "Podemos escribir un pequeño programa que busque las líneas que comiencen\n",
    "por “From ”, extraer las palabras de esas líneas con split, y luego imprimir en\n",
    "pantalla la tercera palabra de cada una:"
   ]
  },
  {
   "cell_type": "code",
   "execution_count": 20,
   "metadata": {},
   "outputs": [
    {
     "name": "stdout",
     "output_type": "stream",
     "text": [
      "Sat\n",
      "Fri\n",
      "Fri\n",
      "Fri\n",
      "Fri\n",
      "Fri\n",
      "Fri\n",
      "Fri\n",
      "Fri\n",
      "Fri\n",
      "Fri\n",
      "Fri\n",
      "Fri\n",
      "Fri\n",
      "Fri\n",
      "Fri\n",
      "Fri\n",
      "Fri\n",
      "Fri\n",
      "Fri\n",
      "Fri\n",
      "Thu\n",
      "Thu\n",
      "Thu\n",
      "Thu\n",
      "Thu\n",
      "Thu\n"
     ]
    }
   ],
   "source": [
    "data=open('mbox-short.txt')\n",
    "for linea in data:\n",
    "    linea=linea.rstrip()\n",
    "    if not linea.startswith('From '): continue\n",
    "    palabras=linea.split()\n",
    "    print(palabras[2])"
   ]
  },
  {
   "cell_type": "markdown",
   "metadata": {},
   "source": [
    "Aquí utilizamos también la forma contraída de la sentencia if, de modo que colocamos\n",
    "el continue en la misma línea que el if. Esta forma contraída del if\n",
    "opera igual que cuando el continue se coloca en la siguiente línea e indentado."
   ]
  },
  {
   "cell_type": "code",
   "execution_count": 26,
   "metadata": {},
   "outputs": [
    {
     "name": "stdout",
     "output_type": "stream",
     "text": [
      "Sat\n",
      "Fri\n",
      "Fri\n",
      "Fri\n",
      "Fri\n",
      "Fri\n",
      "Fri\n",
      "Fri\n",
      "Fri\n",
      "Fri\n",
      "Fri\n",
      "Fri\n",
      "Fri\n",
      "Fri\n",
      "Fri\n",
      "Fri\n",
      "Fri\n",
      "Fri\n",
      "Fri\n",
      "Fri\n",
      "Fri\n",
      "Thu\n",
      "Thu\n",
      "Thu\n",
      "Thu\n",
      "Thu\n",
      "Thu\n"
     ]
    }
   ],
   "source": [
    "manf = open('mbox-short.txt') \n",
    "contador= 0\n",
    "for linea in manf:\n",
    "    palabras = linea.split()\n",
    "    # print 'Debug:', palabras           # Para buscar errores en caso de fallo\n",
    "    if len(palabras) == 0 : continue\n",
    "    if palabras[0] != 'From' : continue\n",
    "    print(palabras[2])"
   ]
  },
  {
   "cell_type": "code",
   "execution_count": 2,
   "metadata": {},
   "outputs": [
    {
     "data": {
      "text/plain": [
       "'Adios'"
      ]
     },
     "execution_count": 2,
     "metadata": {},
     "output_type": "execute_result"
    }
   ],
   "source": [
    "adios='                     Adios                  ' \n",
    "adios.strip()"
   ]
  },
  {
   "cell_type": "code",
   "execution_count": null,
   "metadata": {},
   "outputs": [],
   "source": []
  }
 ],
 "metadata": {
  "kernelspec": {
   "display_name": "Python 3",
   "language": "python",
   "name": "python3"
  },
  "language_info": {
   "codemirror_mode": {
    "name": "ipython",
    "version": 3
   },
   "file_extension": ".py",
   "mimetype": "text/x-python",
   "name": "python",
   "nbconvert_exporter": "python",
   "pygments_lexer": "ipython3",
   "version": "3.7.6"
  },
  "latex_envs": {
   "LaTeX_envs_menu_present": true,
   "autoclose": true,
   "autocomplete": true,
   "bibliofile": "biblio.bib",
   "cite_by": "apalike",
   "current_citInitial": 1,
   "eqLabelWithNumbers": true,
   "eqNumInitial": 1,
   "hotkeys": {
    "equation": "Ctrl-E",
    "itemize": "Ctrl-I"
   },
   "labels_anchors": false,
   "latex_user_defs": false,
   "report_style_numbering": true,
   "user_envs_cfg": false
  }
 },
 "nbformat": 4,
 "nbformat_minor": 4
}
